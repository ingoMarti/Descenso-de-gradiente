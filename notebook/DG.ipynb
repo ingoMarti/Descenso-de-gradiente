{
 "cells": [
  {
   "cell_type": "markdown",
   "metadata": {},
   "source": [
    "## Iñigo Martiarena Conde"
   ]
  },
  {
   "cell_type": "markdown",
   "metadata": {},
   "source": [
    "### Explicacion del descenso de graciente paso a paso"
   ]
  },
  {
   "cell_type": "markdown",
   "metadata": {},
   "source": [
    "#### Librerias necesarias para la demostracion"
   ]
  },
  {
   "cell_type": "code",
   "execution_count": 93,
   "metadata": {},
   "outputs": [],
   "source": [
    "import numpy as np\n",
    "import matplotlib.pyplot as plt\n",
    "import seaborn as sns\n",
    "import pandas as pd\n",
    "plt.style.use(\"ggplot\")\n",
    "%matplotlib inline"
   ]
  },
  {
   "cell_type": "code",
   "execution_count": 94,
   "metadata": {},
   "outputs": [],
   "source": [
    "from pylab import rcParams\n",
    "rcParams['figure.figsize'] = 12, 8"
   ]
  },
  {
   "cell_type": "code",
   "execution_count": 95,
   "metadata": {},
   "outputs": [
    {
     "data": {
      "text/html": [
       "<div>\n",
       "<style scoped>\n",
       "    .dataframe tbody tr th:only-of-type {\n",
       "        vertical-align: middle;\n",
       "    }\n",
       "\n",
       "    .dataframe tbody tr th {\n",
       "        vertical-align: top;\n",
       "    }\n",
       "\n",
       "    .dataframe thead th {\n",
       "        text-align: right;\n",
       "    }\n",
       "</style>\n",
       "<table border=\"1\" class=\"dataframe\">\n",
       "  <thead>\n",
       "    <tr style=\"text-align: right;\">\n",
       "      <th></th>\n",
       "      <th>score-1</th>\n",
       "      <th>score-2</th>\n",
       "      <th>label</th>\n",
       "    </tr>\n",
       "  </thead>\n",
       "  <tbody>\n",
       "    <tr>\n",
       "      <th>0</th>\n",
       "      <td>34.623660</td>\n",
       "      <td>78.024693</td>\n",
       "      <td>0</td>\n",
       "    </tr>\n",
       "    <tr>\n",
       "      <th>1</th>\n",
       "      <td>30.286711</td>\n",
       "      <td>43.894998</td>\n",
       "      <td>0</td>\n",
       "    </tr>\n",
       "    <tr>\n",
       "      <th>2</th>\n",
       "      <td>35.847409</td>\n",
       "      <td>72.902198</td>\n",
       "      <td>0</td>\n",
       "    </tr>\n",
       "    <tr>\n",
       "      <th>3</th>\n",
       "      <td>60.182599</td>\n",
       "      <td>86.308552</td>\n",
       "      <td>1</td>\n",
       "    </tr>\n",
       "    <tr>\n",
       "      <th>4</th>\n",
       "      <td>79.032736</td>\n",
       "      <td>75.344376</td>\n",
       "      <td>1</td>\n",
       "    </tr>\n",
       "  </tbody>\n",
       "</table>\n",
       "</div>"
      ],
      "text/plain": [
       "     score-1    score-2  label\n",
       "0  34.623660  78.024693      0\n",
       "1  30.286711  43.894998      0\n",
       "2  35.847409  72.902198      0\n",
       "3  60.182599  86.308552      1\n",
       "4  79.032736  75.344376      1"
      ]
     },
     "execution_count": 95,
     "metadata": {},
     "output_type": "execute_result"
    }
   ],
   "source": [
    "data = pd.read_csv(\"4_1_data.csv\") # Importamos el dataset\n",
    "data.head()"
   ]
  },
  {
   "cell_type": "code",
   "execution_count": 96,
   "metadata": {},
   "outputs": [
    {
     "name": "stdout",
     "output_type": "stream",
     "text": [
      "<class 'pandas.core.frame.DataFrame'>\n",
      "RangeIndex: 100 entries, 0 to 99\n",
      "Data columns (total 3 columns):\n",
      " #   Column   Non-Null Count  Dtype  \n",
      "---  ------   --------------  -----  \n",
      " 0   score-1  100 non-null    float64\n",
      " 1   score-2  100 non-null    float64\n",
      " 2   label    100 non-null    int64  \n",
      "dtypes: float64(2), int64(1)\n",
      "memory usage: 2.5 KB\n"
     ]
    }
   ],
   "source": [
    "data.info() # vista preliminar de las caracteristicas"
   ]
  },
  {
   "cell_type": "code",
   "execution_count": 97,
   "metadata": {},
   "outputs": [],
   "source": [
    "scores = data[['score-1','score-2']].values # hacemos una lista con las puntuaciones\n",
    "results = data['label'].values # otra con los resultados"
   ]
  },
  {
   "cell_type": "code",
   "execution_count": 98,
   "metadata": {},
   "outputs": [],
   "source": [
    "aprobar = (y == 1).reshape(100,1) # asignamos el valor  1= aprobar\n",
    "suspender = (y == 0). reshape(100,1) # asignamos el valor 0= suspender "
   ]
  },
  {
   "cell_type": "code",
   "execution_count": 99,
   "metadata": {},
   "outputs": [
    {
     "data": {
      "text/plain": [
       "array([60.18259939, 79.03273605, 61.10666454, 75.02474557, 76.0987867 ,\n",
       "       84.43281996, 82.30705337, 69.36458876, 53.97105215, 69.07014406,\n",
       "       70.66150955, 76.97878373, 89.67677575, 77.92409145, 62.27101367,\n",
       "       80.19018075, 61.37928945, 85.40451939, 52.04540477, 64.17698887,\n",
       "       83.90239366, 94.44336777, 77.19303493, 97.77159928, 62.0730638 ,\n",
       "       91.5649745 , 79.94481794, 99.27252693, 90.54671411, 97.64563396,\n",
       "       74.24869137, 71.79646206, 75.39561147, 40.45755098, 80.27957401,\n",
       "       66.74671857, 64.03932042, 72.34649423, 60.45788574, 58.84095622,\n",
       "       99.8278578 , 47.26426911, 50.4581598 , 88.91389642, 94.83450672,\n",
       "       67.31925747, 57.23870632, 80.366756  , 68.46852179, 75.47770201,\n",
       "       78.63542435, 94.09433113, 90.44855097, 74.49269242, 89.84580671,\n",
       "       83.48916274, 42.26170081, 99.31500881, 55.34001756, 74.775893  ])"
      ]
     },
     "execution_count": 99,
     "metadata": {},
     "output_type": "execute_result"
    }
   ],
   "source": [
    "scores[aprobar[:,0],0] # vista preliminar"
   ]
  },
  {
   "cell_type": "code",
   "execution_count": 100,
   "metadata": {},
   "outputs": [
    {
     "data": {
      "text/plain": [
       "array([86.3085521 , 75.34437644, 96.51142588, 46.55401354, 87.42056972,\n",
       "       43.53339331, 76.4819633 , 97.71869196, 89.20735014, 52.74046973,\n",
       "       92.92713789, 47.57596365, 65.79936593, 68.97235999, 69.95445795,\n",
       "       44.82162893, 72.80788731, 57.05198398, 69.43286012, 80.90806059,\n",
       "       56.30804622, 65.56892161, 70.4582    , 86.72782233, 96.76882412,\n",
       "       88.69629255, 74.16311935, 60.999031  , 43.39060181, 68.86157272,\n",
       "       69.82457123, 78.45356225, 85.75993667, 97.53518549, 92.11606081,\n",
       "       60.99139403, 78.03168802, 96.22759297, 73.0949981 , 75.85844831,\n",
       "       72.36925193, 88.475865  , 75.80985953, 69.8037889 , 45.6943068 ,\n",
       "       66.58935318, 59.51428198, 90.9601479 , 85.5943071 , 90.424539  ,\n",
       "       96.64742717, 77.15910509, 87.50879176, 84.84513685, 45.35828361,\n",
       "       48.3802858 , 87.10385094, 68.77540947, 64.93193801, 89.5298129 ])"
      ]
     },
     "execution_count": 100,
     "metadata": {},
     "output_type": "execute_result"
    }
   ],
   "source": [
    "scores[aprobar[:,0],1] # vista preliminar"
   ]
  },
  {
   "cell_type": "code",
   "execution_count": 101,
   "metadata": {},
   "outputs": [
    {
     "data": {
      "text/plain": [
       "array([34.62365962, 30.28671077, 35.84740877, 45.08327748, 95.86155507,\n",
       "       75.01365839, 39.53833914, 67.94685548, 67.37202755, 50.53478829,\n",
       "       34.21206098, 93.1143888 , 61.83020602, 38.7858038 , 52.10797973,\n",
       "       40.23689374, 54.63510555, 33.91550011, 74.78925296, 34.18364003,\n",
       "       51.54772027, 82.36875376, 51.04775177, 62.22267576, 34.52451385,\n",
       "       50.28649612, 49.58667722, 32.57720017, 35.28611282, 56.2538175 ,\n",
       "       30.05882245, 44.66826172, 66.56089447, 49.07256322, 32.72283304,\n",
       "       60.45555629, 82.22666158, 42.07545454, 52.34800399, 55.48216114])"
      ]
     },
     "execution_count": 101,
     "metadata": {},
     "output_type": "execute_result"
    }
   ],
   "source": [
    "scores[suspender[:,0],0] # vista preliminar"
   ]
  },
  {
   "cell_type": "code",
   "execution_count": 102,
   "metadata": {},
   "outputs": [
    {
     "data": {
      "image/png": "[encoded data removed]",
      "text/plain": [
       "<Figure size 864x576 with 1 Axes>"
      ]
     },
     "metadata": {
      "needs_background": "light"
     },
     "output_type": "display_data"
    }
   ],
   "source": [
    "# Graficamos el resultado con las variables independientes\n",
    "ax = sns.scatterplot(x = scores[aprobar[:,0],0],\n",
    "                    y = scores[aprobar[:,0],1],\n",
    "                     marker = \"^\",\n",
    "                     color = \"green\",\n",
    "                     s = 60)\n",
    "sns.scatterplot(x = scores[suspender[:,0],0],\n",
    "                    y = scores[suspender[:,0],1],\n",
    "                     marker = \"X\",\n",
    "                     color = \"red\",\n",
    "                     s = 60)\n",
    "ax.set(xlabel=\"DMV Written Test 1 Scores\", ylabel=\"DMV Written Test 2 Scores\")\n",
    "ax.legend([\"Aprobado\", \"Suspenso\"])\n",
    "plt.show();                   "
   ]
  },
  {
   "cell_type": "code",
   "execution_count": 103,
   "metadata": {},
   "outputs": [
    {
     "data": {
      "text/plain": [
       "0.5"
      ]
     },
     "execution_count": 103,
     "metadata": {},
     "output_type": "execute_result"
    }
   ],
   "source": [
    "def logistic_function(x):    # creamos la funcion S. \n",
    "    return 1/ (1 + np.exp(-x)) # comparamos la regresion logistica y la regresion lineal\n",
    "logistic_function(0)"
   ]
  },
  {
   "cell_type": "code",
   "execution_count": 104,
   "metadata": {},
   "outputs": [],
   "source": [
    "def compute_cost(theta, x, y):\n",
    "    m = len(y) # indentifica el numero de dimensiones que vamos a utilizar\n",
    "    y_pred = logistic_function(np.dot(x , theta)) \n",
    "    error = (y * np.log(y_pred)) + ((1 - y) * np.log(1 - y_pred)) # Loss error = ½ (predicted value – actual value)2\n",
    "    cost = -1 / m * sum(error) # función coste\n",
    "    gradient = 1 / m * np.dot(x.transpose(), (y_pred - y)) # funcion gradiente\n",
    "    return cost[0] , gradient\n",
    "\n",
    "# es igual al producto de la traspuesta de m y el error dividio por el número de samples\n",
    "# conseguimos la regresion logistica de la funcion coste"
   ]
  },
  {
   "cell_type": "code",
   "execution_count": 105,
   "metadata": {},
   "outputs": [
    {
     "name": "stdout",
     "output_type": "stream",
     "text": [
      "Cost at initialization 0.693147180559946\n",
      "Gradient at initialization: [[-0.1       ]\n",
      " [-0.28122914]\n",
      " [-0.25098615]]\n"
     ]
    }
   ],
   "source": [
    "mean_scores = np.mean(scores, axis=0)\n",
    "std_scores = np.std(scores, axis=0)\n",
    "scores = (scores - mean_scores) / std_scores # standardization \n",
    "\n",
    "rows = scores.shape[0] # el número total de samples\n",
    "cols = scores.shape[1] # el número total de feautures\n",
    "\n",
    "x = np.append(np.ones((rows, 1)), scores, axis=1)\n",
    "y = results.reshape(rows, 1)\n",
    "\n",
    "# inserto una columna de 1s como primera entrada en el nuevo vector, se trata de un pequeño truco que nos permite introducir\n",
    "# el \"bias\" como un parámetro dentro del peso de la matriz, en vez de como una variable separada\n",
    "\n",
    "theta_init = np.zeros((cols + 1, 1)) # esto es el procesos de initalization, que me indica donde empieza la fuunción\n",
    "\n",
    "# con la funcion de coste vemos la distacia a la que estan los puntos actuales de nuestra regresion lineals \n",
    "# ademas, evaluamos el performance del modelo en el training dataset\n",
    "cost, gradient = compute_cost(theta_init, X, y)\n",
    "\n",
    "print(\"Cost at initialization\", cost)  \n",
    "print(\"Gradient at initialization:\", gradient) # gradiciente inicial "
   ]
  },
  {
   "cell_type": "code",
   "execution_count": 106,
   "metadata": {},
   "outputs": [],
   "source": [
    "def gradient_descent(x, y, theta, alpha, iterations):  # descenso de gradiente esta en funcion de x, y, theta, alpha, iteraciones\n",
    "    costs = []\n",
    "    for i in range(iterations):\n",
    "        cost, gradient = compute_cost(theta, x, y) # a menor gradiente, menor el coste \n",
    "        theta -= (alpha * gradient) # Alpha multiplica el gradiente en funcion de theta \n",
    "        costs.append(cost)\n",
    "    return theta, costs"
   ]
  },
  {
   "cell_type": "code",
   "execution_count": 107,
   "metadata": {},
   "outputs": [],
   "source": [
    "# utilizamos una tasa de aprendizaje (alfa) = 0.2 y 200 iteraciones\n",
    "theta, costs = gradient_descent(X, y, theta_init, 1, 200) "
   ]
  },
  {
   "cell_type": "code",
   "execution_count": 108,
   "metadata": {},
   "outputs": [
    {
     "name": "stdout",
     "output_type": "stream",
     "text": [
      "Theta after running gradient descent: [[1.50850586]\n",
      " [3.5468762 ]\n",
      " [3.29383709]]\n",
      "Resulting cost: 0.2048938203603661\n"
     ]
    }
   ],
   "source": [
    "print(\"Theta after running gradient descent:\", theta)\n",
    "print(\"Resulting cost:\", costs[-1])"
   ]
  },
  {
   "cell_type": "code",
   "execution_count": 109,
   "metadata": {},
   "outputs": [
    {
     "data": {
      "image/png": "[encoded data removed]",
      "text/plain": [
       "<Figure size 864x576 with 1 Axes>"
      ]
     },
     "metadata": {
      "needs_background": "light"
     },
     "output_type": "display_data"
    }
   ],
   "source": [
    "plt.plot(costs)\n",
    "plt.xlabel(\"Iterations\")\n",
    "plt.ylabel(\"$J(\\Theta)$\")\n",
    "plt.title(\"Values of Cost Function over iterations of Gradient Descent\");"
   ]
  },
  {
   "cell_type": "code",
   "execution_count": 110,
   "metadata": {},
   "outputs": [
    {
     "data": {
      "image/png": "[encoded data removed]",
      "text/plain": [
       "<Figure size 864x576 with 1 Axes>"
      ]
     },
     "metadata": {
      "needs_background": "light"
     },
     "output_type": "display_data"
    }
   ],
   "source": [
    "ax = sns.scatterplot(x = scores[aprobar[:,0],0],\n",
    "                    y = scores[aprobar[:,0],1],\n",
    "                     marker = \"^\",\n",
    "                     color = \"green\",\n",
    "                     s = 60)\n",
    "sns.scatterplot(x = scores[suspender[:,0],0],\n",
    "                    y = scores[suspender[:,0],1],\n",
    "                     marker = \"X\",\n",
    "                     color = \"red\",\n",
    "                     s = 60)\n",
    "ax.legend([\"Aprobado\", \"Suspenso\"])\n",
    "ax.set(xlabel=\"DMV Written Test 1 Scores\", ylabel=\"DMV Written Test 2 Scores\")\n",
    "x_boundary = np.array([np.min(X[:, 1]), np.max(X[:, 1])])\n",
    "y_boundary = -(theta[0] + theta[1] * x_boundary) / theta[2]\n",
    "ax.legend([\"Aprobado\", \"Suspenso\"])\n",
    "sns.lineplot(x = x_boundary, y = y_boundary, color=\"blue\")\n",
    "plt.show()"
   ]
  },
  {
   "cell_type": "code",
   "execution_count": 111,
   "metadata": {},
   "outputs": [
    {
     "name": "stdout",
     "output_type": "stream",
     "text": [
      "A person who scores 50 and 79 on their DMV written tests have a 0.71 probability of passing.\n"
     ]
    }
   ],
   "source": [
    "test = np.array([50,79])\n",
    "test = (test - mean_scores)/std_scores\n",
    "test = np.append(np.ones(1), test)\n",
    "probability = logistic_function(test.dot(theta))\n",
    "print(\"A person who scores 50 and 79 on their DMV written tests have a\",\n",
    "      np.round(probability[0], 2),\"probability of passing.\")"
   ]
  },
  {
   "cell_type": "code",
   "execution_count": 112,
   "metadata": {},
   "outputs": [
    {
     "name": "stdout",
     "output_type": "stream",
     "text": [
      "Train Accuracy: 89 %\n"
     ]
    }
   ],
   "source": [
    "# computa el porcentaje de correcta clasificación de nuestro training set.\n",
    "def classifierPredict(theta,X):\n",
    "    \"\"\"\n",
    "    take in numpy array of theta and X and predict the class \n",
    "    \"\"\"\n",
    "    predictions = X.dot(theta)\n",
    "    \n",
    "    return predictions>0\n",
    "p=classifierPredict(theta,X)\n",
    "print(\"Train Accuracy:\", sum(p==y)[0],\"%\")"
   ]
  },
  {
   "cell_type": "markdown",
   "metadata": {},
   "source": [
    "## Bibliografia"
   ]
  },
  {
   "cell_type": "markdown",
   "metadata": {},
   "source": [
    "https://github.com/lmntrixsid/Linear-and-Logistic-Regression-with-NumPy-and-Python/blob/master/Logistic_Regression_Completed.ipynb\n",
    "https://www.ellaberintodefalken.com/2019/03/regresion-lineal-descenso-de-gradiente.html"
   ]
  }
 ],
 "metadata": {
  "kernelspec": {
   "display_name": "DG",
   "language": "python",
   "name": "dg"
  },
  "language_info": {
   "codemirror_mode": {
    "name": "ipython",
    "version": 3
   },
   "file_extension": ".py",
   "mimetype": "text/x-python",
   "name": "python",
   "nbconvert_exporter": "python",
   "pygments_lexer": "ipython3",
   "version": "3.8.5"
  }
 },
 "nbformat": 4,
 "nbformat_minor": 4
}
